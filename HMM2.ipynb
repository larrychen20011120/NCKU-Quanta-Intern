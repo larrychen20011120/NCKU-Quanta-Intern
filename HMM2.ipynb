{
  "nbformat": 4,
  "nbformat_minor": 0,
  "metadata": {
    "colab": {
      "provenance": [],
      "authorship_tag": "ABX9TyNhPfRDkiJVfLqfmXCbTOwt",
      "include_colab_link": true
    },
    "kernelspec": {
      "name": "python3",
      "display_name": "Python 3"
    },
    "language_info": {
      "name": "python"
    }
  },
  "cells": [
    {
      "cell_type": "markdown",
      "metadata": {
        "id": "view-in-github",
        "colab_type": "text"
      },
      "source": [
        "<a href=\"https://colab.research.google.com/github/larrychen20011120/NCKU-Quanta-Intern/blob/main/HMM2.ipynb\" target=\"_parent\"><img src=\"https://colab.research.google.com/assets/colab-badge.svg\" alt=\"Open In Colab\"/></a>"
      ]
    },
    {
      "cell_type": "markdown",
      "source": [
        "## Import the library\n",
        "* numpy: 數值運算\n",
        "* random: 抽樣資料\n",
        "* matplotlib: 繪製分析的圖形 "
      ],
      "metadata": {
        "id": "x1oMuFzVYb2Z"
      }
    },
    {
      "cell_type": "code",
      "execution_count": 1,
      "metadata": {
        "id": "S5c5fAtpEV1C"
      },
      "outputs": [],
      "source": [
        "import numpy as np\n",
        "import random\n",
        "import matplotlib.pyplot as plt"
      ]
    },
    {
      "cell_type": "markdown",
      "source": [
        "## Sampling the series\n",
        "判別隨機生成的數值位於那些數值區間"
      ],
      "metadata": {
        "id": "PuH-9XNrjUHz"
      }
    },
    {
      "cell_type": "code",
      "source": [
        "def sample_unit(prob_vec):\n",
        "    sample_value = random.random()\n",
        "    accumulator = 0\n",
        "    for index, prob in enumerate(prob_vec):\n",
        "        accumulator += prob\n",
        "        if sample_value <= accumulator:\n",
        "            return index\n",
        "\n",
        "def sample_series(trans_matrix, emit_matrix, init_prob, series_len):\n",
        "    current_state = sample_unit(init_prob)\n",
        "    state_series = [ current_state ]\n",
        "    observ_series = [ sample_unit(emit_matrix[current_state, :]) ]\n",
        "\n",
        "    for _ in range(series_len-1):\n",
        "        current_state = sample_unit(trans_matrix[current_state, :])\n",
        "        state_series.append( current_state )\n",
        "        observ_series.append( sample_unit(emit_matrix[current_state, :]) )\n",
        "    return state_series, observ_series\n"
      ],
      "metadata": {
        "id": "WIzPTH4SjTwh"
      },
      "execution_count": 2,
      "outputs": []
    },
    {
      "cell_type": "markdown",
      "source": [
        "## Viterbi Algorithm"
      ],
      "metadata": {
        "id": "fd47YAjRYRIJ"
      }
    },
    {
      "cell_type": "code",
      "source": [
        "def decode(A, B, PI, N, M, T, observs):\n",
        "    \n",
        "    # final result\n",
        "    max_prob, guess_series = 0, np.zeros((T, ), dtype=np.int8)\n",
        "    # defined matrix for dynamic programming\n",
        "    psi = np.zeros((T, N))\n",
        "    delta = np.zeros((T, N))\n",
        "    scale = np.zeros((T, ))\n",
        "\n",
        "    for t, observ in enumerate(observs):                # T times\n",
        "        for state in range(N):                          # N times\n",
        "            if t == 0: # initial\n",
        "                delta[t, state] = PI[state] * B[state, observ]\n",
        "            else:\n",
        "                # dynamic programming\n",
        "                inter_max = 0\n",
        "                for inter_state in range(N):            # N times\n",
        "                    value = delta[t-1, inter_state] * A[inter_state, state]\n",
        "                    if value > inter_max:\n",
        "                        inter_max = value\n",
        "                        psi[t, state] = inter_state\n",
        "                \n",
        "                delta[t, state] = inter_max * B[state, observ] \n",
        "        # avoid scaling problem of delta\n",
        "        scale[t] = np.sum(delta[t])\n",
        "        delta[t] = delta[t] / scale[t]\n",
        "            \n",
        "    # collect the final result\n",
        "    for state in range(N):\n",
        "        if delta[T-1][state] > max_prob:\n",
        "            max_prob, guess_series[T-1] = delta[T-1][state], state\n",
        "    for t in range(T-1, 0, -1):\n",
        "        guess_series[t-1] = psi[t, guess_series[t]]\n",
        "    return guess_series"
      ],
      "metadata": {
        "id": "HN9Dcy8JIWWG"
      },
      "execution_count": 52,
      "outputs": []
    },
    {
      "cell_type": "markdown",
      "source": [
        "## Setting Parameters\n",
        "範例測試資料以天氣和行為作為分析主題\n",
        "* 3 種狀態和 3 種觀察值\n",
        "* 觀察序列長度 T=15\n",
        "* 狀態: **晴天**、**陰天**、**雨天**\n",
        "* 觀察: **公園玩**、**逛街**、**待在家**"
      ],
      "metadata": {
        "id": "QdwcGkvq2lOR"
      }
    },
    {
      "cell_type": "code",
      "source": [
        "TIME_RANGE = 15\n",
        "STATE_NUM = 3\n",
        "OBSERV_NUM = 3\n",
        "STATE_NAMES = (\"Sunny\", \"Cloudy\", \"Rainy\")\n",
        "OBSERV_NAMES = (\"Park\", \"Store\", \"Home\")\n",
        "\n",
        "trans_matrix = np.array([\n",
        "    [0.7, 0.2, 0.1],\n",
        "    [0.2, 0.4, 0.4],\n",
        "    [0.15, 0.35, 0.5]\n",
        "])\n",
        "emit_matrix = np.array([\n",
        "    [0.55, 0.25, 0.2],\n",
        "    [0.4, 0.3, 0.3],\n",
        "    [0.05, 0.25, 0.7]\n",
        "])\n",
        "init_prob = np.array([0.45, 0.35, 0.2])"
      ],
      "metadata": {
        "id": "Sbulz2-RYPBy"
      },
      "execution_count": 8,
      "outputs": []
    },
    {
      "cell_type": "markdown",
      "source": [
        "## Analysis"
      ],
      "metadata": {
        "id": "oRZl5Tw9FkOC"
      }
    },
    {
      "cell_type": "markdown",
      "source": [
        "### Generate the sample series"
      ],
      "metadata": {
        "id": "rqr0H1nOprWH"
      }
    },
    {
      "cell_type": "code",
      "source": [
        "states, observs = sample_series(trans_matrix, emit_matrix, init_prob, TIME_RANGE)\n",
        "print(\"States' Transition:\")\n",
        "for state in states:\n",
        "    if state is not None:\n",
        "        print(STATE_NAMES[state], end=\"  \")\n",
        "print()\n",
        "print()\n",
        "print(\"Observations:\")\n",
        "for observ in observs:\n",
        "    if observ is not None:\n",
        "        print(OBSERV_NAMES[observ], end=\"  \")"
      ],
      "metadata": {
        "colab": {
          "base_uri": "https://localhost:8080/"
        },
        "id": "-L4ARy2l9Fj6",
        "outputId": "b6a00c6f-b58a-4ce3-81e4-0795cfa873e4"
      },
      "execution_count": 45,
      "outputs": [
        {
          "output_type": "stream",
          "name": "stdout",
          "text": [
            "States' Transition:\n",
            "Rainy  Rainy  Sunny  Sunny  Sunny  Rainy  Rainy  Rainy  Cloudy  Rainy  Sunny  Sunny  Sunny  Rainy  Rainy  \n",
            "\n",
            "Observations:\n",
            "Store  Home  Park  Park  Home  Park  Store  Home  Home  Home  Home  Store  Home  Home  Home  "
          ]
        }
      ]
    },
    {
      "cell_type": "markdown",
      "source": [
        "### Guess the most likely transistion"
      ],
      "metadata": {
        "id": "vhHPtBGfp3DC"
      }
    },
    {
      "cell_type": "code",
      "source": [
        "guess_series = decode(\n",
        "    A=trans_matrix, B=emit_matrix, PI=init_prob,\n",
        "    N=STATE_NUM, M=OBSERV_NUM, T=TIME_RANGE, observs=observs\n",
        ")\n",
        "print(guess_series)\n",
        "print()\n",
        "print(\"Guess States' Transition:\")\n",
        "for guess in guess_series:\n",
        "    if guess is not None:\n",
        "        print(STATE_NAMES[guess], end=\"  \")"
      ],
      "metadata": {
        "id": "4sqN4kkbG7wh",
        "colab": {
          "base_uri": "https://localhost:8080/"
        },
        "outputId": "d151f981-0913-40fe-d85e-62bf7e61095c"
      },
      "execution_count": 48,
      "outputs": [
        {
          "output_type": "stream",
          "name": "stdout",
          "text": [
            "[0.06185567 0.21649485 0.72164948]\n",
            "[0 0 0 0 0 0 1 2 2 2 2 2 2 2 2]\n",
            "\n",
            "Guess States' Transition:\n",
            "Sunny  Sunny  Sunny  Sunny  Sunny  Sunny  Cloudy  Rainy  Rainy  Rainy  Rainy  Rainy  Rainy  Rainy  Rainy  "
          ]
        }
      ]
    },
    {
      "cell_type": "markdown",
      "source": [
        "### Calculate ACC"
      ],
      "metadata": {
        "id": "90mZXYWsCy0u"
      }
    },
    {
      "cell_type": "code",
      "source": [
        "correct_count = 0\n",
        "for t in range(TIME_RANGE):\n",
        "    if guess_series[t] == states[t]:\n",
        "        correct_count += 1\n",
        "print(f\"Accuracy: {correct_count / TIME_RANGE * 100:.2f}%\")"
      ],
      "metadata": {
        "colab": {
          "base_uri": "https://localhost:8080/"
        },
        "id": "U2I7cYWmCvfv",
        "outputId": "8b77f34c-14f2-4c86-d626-b067a5923f36"
      },
      "execution_count": 49,
      "outputs": [
        {
          "output_type": "stream",
          "name": "stdout",
          "text": [
            "Accuracy: 46.67%\n"
          ]
        }
      ]
    },
    {
      "cell_type": "markdown",
      "source": [
        "### Repeat it 1000 times"
      ],
      "metadata": {
        "id": "AMipI6wOhiyg"
      }
    },
    {
      "cell_type": "code",
      "source": [
        "corrects = []\n",
        "for _ in range(1000):\n",
        "    states, observs = sample_series(trans_matrix, emit_matrix, init_prob, TIME_RANGE)\n",
        "    guess_series = decode(\n",
        "        A=trans_matrix, B=emit_matrix, PI=init_prob,\n",
        "        N=STATE_NUM, M=OBSERV_NUM, T=TIME_RANGE, observs=observs\n",
        "    )\n",
        "    \n",
        "    correct_count = 0\n",
        "    for t in range(TIME_RANGE):\n",
        "        if guess_series[t] == states[t]:\n",
        "            correct_count += 1\n",
        "    corrects.append( correct_count / TIME_RANGE * 100)"
      ],
      "metadata": {
        "id": "zrrS4IPvhhHi"
      },
      "execution_count": 53,
      "outputs": []
    },
    {
      "cell_type": "code",
      "source": [
        "print(np.mean(corrects))\n",
        "plt.boxplot(corrects)\n",
        "plt.show()"
      ],
      "metadata": {
        "colab": {
          "base_uri": "https://localhost:8080/",
          "height": 282
        },
        "id": "IPXXndVQjGDn",
        "outputId": "56ed7461-2c7f-4b92-cb49-6c5c9bba46a9"
      },
      "execution_count": 51,
      "outputs": [
        {
          "output_type": "stream",
          "name": "stdout",
          "text": [
            "51.41333333333333\n"
          ]
        },
        {
          "output_type": "display_data",
          "data": {
            "text/plain": [
              "<Figure size 432x288 with 1 Axes>"
            ],
            "image/png": "[encoded data removed]"
          },
          "metadata": {
            "needs_background": "light"
          }
        }
      ]
    },
    {
      "cell_type": "markdown",
      "source": [
        "## Compare different size and matrix types\n",
        "* 觀察不同序列長度對準確度的影響\n",
        "* 觀察不同數值的矩陣對準確度的影響"
      ],
      "metadata": {
        "id": "1BqwWK68EqU-"
      }
    },
    {
      "cell_type": "markdown",
      "source": [
        "### Length of series\n",
        "看起來隨序列長度增加，準確度會下降並收斂到某個值"
      ],
      "metadata": {
        "id": "RzzhIvZvqPkV"
      }
    },
    {
      "cell_type": "code",
      "source": [
        "time_x = np.arange(1, 10000, 50)\n",
        "acc_y = []\n",
        "for x in time_x:\n",
        "    \n",
        "    states, observs = sample_series(trans_matrix, emit_matrix, init_prob, x)\n",
        "    guess_series = decode(\n",
        "        A=trans_matrix, B=emit_matrix, PI=init_prob,\n",
        "        N=STATE_NUM, M=OBSERV_NUM, T=x, observs=observs\n",
        "    )\n",
        "    correct_count, acc = 0, 0\n",
        "    for t in range(x):\n",
        "        if guess_series[t] == states[t]:\n",
        "            correct_count += 1\n",
        "    acc = correct_count / x * 100\n",
        "    acc_y.append(acc)\n",
        "\n",
        "plt.plot(time_x, acc_y)\n",
        "plt.show()"
      ],
      "metadata": {
        "colab": {
          "base_uri": "https://localhost:8080/",
          "height": 265
        },
        "id": "-2lCcUr6EwHw",
        "outputId": "e88a6c50-2e47-4ba9-dceb-8bf44b2f3d04"
      },
      "execution_count": 54,
      "outputs": [
        {
          "output_type": "display_data",
          "data": {
            "text/plain": [
              "<Figure size 432x288 with 1 Axes>"
            ],
            "image/png": "[encoded data removed]"
          },
          "metadata": {
            "needs_background": "light"
          }
        }
      ]
    },
    {
      "cell_type": "markdown",
      "source": [
        "### Different Types\n",
        "較確定的值和較隨機的值所構成的矩陣對準確度的影響"
      ],
      "metadata": {
        "id": "N5HMtNqooUfV"
      }
    },
    {
      "cell_type": "code",
      "source": [
        "A1 = np.array([\n",
        "    [0.8, 0.1, 0.1],\n",
        "    [0.1, 0.05, 0.85],\n",
        "    [0.05, 0.9, 0.05]\n",
        "])\n",
        "B1 = np.array([\n",
        "    [0.05, 0.85, 0.1],\n",
        "    [0.15, 0.1, 0.75],\n",
        "    [0.05, 0.2, 0.75]\n",
        "])\n",
        "A2 = np.array([\n",
        "    [0.3, 0.3, 0.4],\n",
        "    [0.4, 0.4, 0.2],\n",
        "    [0.35, 0.35, 0.3]\n",
        "])\n",
        "B2 = np.array([\n",
        "    [0.33, 0.33, 0.34],\n",
        "    [0.4, 0.35, 0.25],\n",
        "    [0.3, 0.4, 0.3]\n",
        "])\n",
        "\n",
        "AB_sets = (\n",
        "    (A1, B1), (A2, B2), (A1, B2), (A2, B1)\n",
        ")"
      ],
      "metadata": {
        "id": "IsRCbIPaR6x_"
      },
      "execution_count": 23,
      "outputs": []
    },
    {
      "cell_type": "markdown",
      "source": [
        "在序列長度為 15 (較小時)，越準確的矩陣數值能有較高的準確度"
      ],
      "metadata": {
        "id": "nTUvhd42rAzX"
      }
    },
    {
      "cell_type": "code",
      "source": [
        "type_x = ['abs+abs', 'random+random', 'abs+random', 'random+abs']\n",
        "acc_y = []\n",
        "for A_mat, B_mat in AB_sets:\n",
        "    acc = []\n",
        "    for _ in range(1000):\n",
        "        states, observs = sample_series(A_mat, B_mat, init_prob, TIME_RANGE)\n",
        "        guess_series = decode(\n",
        "            A=A_mat, B=B_mat, PI=init_prob,\n",
        "            N=STATE_NUM, M=OBSERV_NUM, T=TIME_RANGE, observs=observs\n",
        "        )\n",
        "        correct_count = 0\n",
        "        for t in range(TIME_RANGE):\n",
        "            if guess_series[t] == states[t]:\n",
        "                correct_count += 1\n",
        "        acc.append(correct_count / TIME_RANGE * 100)\n",
        "    acc_y.append(np.mean(acc))\n",
        "plt.bar(type_x, acc_y)\n",
        "plt.show()"
      ],
      "metadata": {
        "colab": {
          "base_uri": "https://localhost:8080/",
          "height": 265
        },
        "id": "nhsyN0-SUVnO",
        "outputId": "74dd3d38-567a-4679-b19c-2c14d655fa0c"
      },
      "execution_count": 36,
      "outputs": [
        {
          "output_type": "display_data",
          "data": {
            "text/plain": [
              "<Figure size 432x288 with 1 Axes>"
            ],
            "image/png": "[encoded data removed]"
          },
          "metadata": {
            "needs_background": "light"
          }
        }
      ]
    },
    {
      "cell_type": "markdown",
      "source": [
        "* 無論矩陣值是多少，隨序列增長似乎都會收斂到約莫40%左右(??)\n",
        "* 矩陣的值在序列短時，會有顯著的影響，通常越確定的值能產生越高的準確度\n",
        "* 就趨勢而言，序列越長準確度會下降並收斂\n",
        "* 要不然就是我程式寫錯了XD"
      ],
      "metadata": {
        "id": "hfBSFR6TrXx4"
      }
    },
    {
      "cell_type": "code",
      "source": [
        "time_x = np.arange(1, 10000, 50)\n",
        "acc_y = [[], [], [], []]\n",
        "index = 0\n",
        "for A_mat, B_mat in AB_sets:\n",
        "    for x in time_x:\n",
        "        \n",
        "        states, observs = sample_series(A_mat, B_mat, init_prob, x)\n",
        "        guess_series = decode(\n",
        "            A=A_mat, B=B_mat, PI=init_prob,\n",
        "            N=STATE_NUM, M=OBSERV_NUM, T=x, observs=observs\n",
        "        )\n",
        "        correct_count, acc = 0, 0\n",
        "        for t in range(x):\n",
        "            if guess_series[t] == states[t]:\n",
        "                correct_count += 1\n",
        "        acc = correct_count / x * 100\n",
        "        acc_y[index].append(acc)\n",
        "    index += 1\n",
        "fig = plt.figure()\n",
        "plt.ylim(-0.5, 100)\n",
        "plt.subplot(221)\n",
        "plt.plot(time_x, acc_y[0])\n",
        "plt.subplot(222)\n",
        "plt.plot(time_x, acc_y[1])\n",
        "plt.subplot(223)\n",
        "plt.plot(time_x, acc_y[2])\n",
        "plt.subplot(224)\n",
        "plt.plot(time_x, acc_y[3])\n",
        "plt.show()"
      ],
      "metadata": {
        "colab": {
          "base_uri": "https://localhost:8080/",
          "height": 320
        },
        "id": "H2UIXicUYiuP",
        "outputId": "b42f1aca-3b33-47f6-ff38-cbc402298d85"
      },
      "execution_count": 62,
      "outputs": [
        {
          "output_type": "stream",
          "name": "stderr",
          "text": [
            "<ipython-input-62-28b89248eba4>:21: MatplotlibDeprecationWarning: Auto-removal of overlapping axes is deprecated since 3.6 and will be removed two minor releases later; explicitly call ax.remove() as needed.\n",
            "  plt.subplot(221)\n"
          ]
        },
        {
          "output_type": "display_data",
          "data": {
            "text/plain": [
              "<Figure size 432x288 with 4 Axes>"
            ],
            "image/png": "[encoded data removed]"
          },
          "metadata": {
            "needs_background": "light"
          }
        }
      ]
    },
    {
      "cell_type": "markdown",
      "source": [
        "## Define error to find where maybe the scaling problems happened"
      ],
      "metadata": {
        "id": "RuTyaPvscjwN"
      }
    },
    {
      "cell_type": "code",
      "source": [
        "def block_error(values, block_size=2):\n",
        "    threshold = 5\n",
        "    count = len(values) // block_size\n",
        "    mean_values = []\n",
        "    for i in range(count):\n",
        "        mean_values.append(\n",
        "            np.mean( values[i*block_size: (i+1)*block_size]) \n",
        "        )\n",
        "    errors = np.abs(np.diff(np.array(mean_values)))\n",
        "    print(errors)\n",
        "    return np.where(errors > threshold) * np.array(block_size*50)"
      ],
      "metadata": {
        "id": "VKq3ILbaci-k"
      },
      "execution_count": 88,
      "outputs": []
    },
    {
      "cell_type": "code",
      "source": [
        "block_error(acc_y[0])"
      ],
      "metadata": {
        "colab": {
          "base_uri": "https://localhost:8080/"
        },
        "id": "nNz5VKRAfABo",
        "outputId": "dd4e6ecb-3a6e-4d92-a7a3-20909e2f6bd0"
      },
      "execution_count": 89,
      "outputs": [
        {
          "output_type": "stream",
          "name": "stdout",
          "text": [
            "[27.34484785  5.29042579  3.17670796  2.74734123  4.26192977  4.18338864\n",
            "  0.87347459  7.77275869  2.9431931   6.65018329  1.7828946   4.15149691\n",
            "  6.94379863  0.22262057  1.31505886  5.73280692  2.50342305  0.22437957\n",
            "  1.02958966  1.81407544  0.97397672  1.14196334  0.42526201  0.73517196\n",
            "  1.91396785  3.38580458  2.33096932  4.59132366  3.87868345  3.0099903\n",
            "  3.96260769  3.16152945  0.58928424  0.06452065  0.02959758  0.70399538\n",
            "  0.04763915  1.89308635  0.43108688  1.17802424  0.85970237  2.84566545\n",
            "  0.92069202  0.35532997  1.35970482  0.17921445  1.23175688  2.91787476\n",
            "  2.72818561  2.878281    3.01671678  0.80046517  3.16846604  3.81948734\n",
            "  0.96864033  0.59512239  0.78771692  0.88669821  1.01843189  0.93808663\n",
            "  0.2364702   1.37458628  0.95222471  0.642611    0.81524826  3.07887514\n",
            "  3.94739274  2.6109555   0.57017181  2.94487506  1.75109368  0.97941094\n",
            "  1.46060029  1.34125291  1.46197432  0.78804306  1.74487166  0.16113677\n",
            "  1.80036273  0.98046875  1.31445388  1.22670404  1.50101872  1.97883936\n",
            "  0.07114956  0.79714721  0.44463174  0.48379314  1.46104904  2.48094048\n",
            "  0.83367836  0.1675415   0.65906775  0.37320884  0.52114245  1.34613755\n",
            "  1.13665028  0.74074877  1.9791615 ]\n"
          ]
        },
        {
          "output_type": "execute_result",
          "data": {
            "text/plain": [
              "array([[   0,  100,  700,  900, 1200, 1500]])"
            ]
          },
          "metadata": {},
          "execution_count": 89
        }
      ]
    }
  ]
}