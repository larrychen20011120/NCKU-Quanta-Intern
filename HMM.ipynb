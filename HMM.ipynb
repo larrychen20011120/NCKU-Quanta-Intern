{
  "nbformat": 4,
  "nbformat_minor": 0,
  "metadata": {
    "colab": {
      "provenance": [],
      "authorship_tag": "ABX9TyMPxr+Vr9w4dcVFy75T9vTk",
      "include_colab_link": true
    },
    "kernelspec": {
      "name": "python3",
      "display_name": "Python 3"
    },
    "language_info": {
      "name": "python"
    }
  },
  "cells": [
    {
      "cell_type": "markdown",
      "metadata": {
        "id": "view-in-github",
        "colab_type": "text"
      },
      "source": [
        "<a href=\"https://colab.research.google.com/github/larrychen20011120/NCKU-Quanta-Intern/blob/main/HMM.ipynb\" target=\"_parent\"><img src=\"https://colab.research.google.com/assets/colab-badge.svg\" alt=\"Open In Colab\"/></a>"
      ]
    },
    {
      "cell_type": "markdown",
      "source": [
        "## Import the library "
      ],
      "metadata": {
        "id": "x1oMuFzVYb2Z"
      }
    },
    {
      "cell_type": "code",
      "execution_count": null,
      "metadata": {
        "id": "S5c5fAtpEV1C"
      },
      "outputs": [],
      "source": [
        "import numpy as np\n",
        "import random\n",
        "import matplotlib.pyplot as plt"
      ]
    },
    {
      "cell_type": "markdown",
      "source": [
        "## Sampling the series"
      ],
      "metadata": {
        "id": "PuH-9XNrjUHz"
      }
    },
    {
      "cell_type": "code",
      "source": [
        "def sample_unit(prob_vec):\n",
        "    sample_value = random.random()\n",
        "    accumulator = 0\n",
        "    for index, prob in enumerate(prob_vec):\n",
        "        accumulator += prob\n",
        "        if sample_value <= accumulator:\n",
        "            return index\n",
        "\n",
        "def sample_series(trans_matrix, emit_matrix, init_prob, series_len):\n",
        "    current_state = sample_unit(init_prob)\n",
        "    state_series = [ current_state ]\n",
        "    observ_series = [ sample_unit(emit_matrix[current_state, :]) ]\n",
        "\n",
        "    for _ in range(series_len-1):\n",
        "        current_state = sample_unit(trans_matrix[current_state, :])\n",
        "        state_series.append( current_state )\n",
        "        observ_series.append( sample_unit(emit_matrix[current_state, :]) )\n",
        "    return state_series, observ_series\n"
      ],
      "metadata": {
        "id": "WIzPTH4SjTwh"
      },
      "execution_count": 43,
      "outputs": []
    },
    {
      "cell_type": "markdown",
      "source": [
        "## Viterbi Algorithm"
      ],
      "metadata": {
        "id": "fd47YAjRYRIJ"
      }
    },
    {
      "cell_type": "code",
      "source": [
        "def decode(A, B, PI, N, M, T, observs):\n",
        "    \n",
        "    # final result\n",
        "    max_prob, guess_series = 0, np.zeros((T, ), dtype=np.int8)\n",
        "    # defined matrix for dynamic programming\n",
        "    psi = np.zeros((T, N))\n",
        "    delta = np.zeros((T, N))\n",
        "\n",
        "    for t, observ in enumerate(observs):                # T times\n",
        "        for state in range(N):                          # N times\n",
        "            if t == 0: # initial\n",
        "                delta[t, state] = PI[state] * B[state, observ]\n",
        "            else:\n",
        "                # dynamic programming\n",
        "                inter_max = 0\n",
        "                for inter_state in range(N):            # N times\n",
        "                    value = delta[t-1][inter_state] * A[inter_state, state]\n",
        "                    if value > inter_max:\n",
        "                        inter_max = value\n",
        "                        psi[t, state] = inter_state\n",
        "                delta[t, state] = inter_max * B[state, observ] \n",
        "    \n",
        "    # collect the final result\n",
        "    for state in range(N):\n",
        "        if delta[T-1][state] > max_prob:\n",
        "            max_prob, guess_series[T-1] = delta[T-1][state], state\n",
        "    for t in range(T-1, 0, -1):\n",
        "        guess_series[t-1] = psi[t, guess_series[t]]\n",
        "    return guess_series"
      ],
      "metadata": {
        "id": "HN9Dcy8JIWWG"
      },
      "execution_count": 35,
      "outputs": []
    },
    {
      "cell_type": "markdown",
      "source": [
        "## Setting Parameters"
      ],
      "metadata": {
        "id": "QdwcGkvq2lOR"
      }
    },
    {
      "cell_type": "code",
      "source": [
        "TIME_RANGE = 15\n",
        "STATE_NUM = 3\n",
        "OBSERV_NUM = 3\n",
        "STATE_NAMES = (\"Sunny\", \"Cloudy\", \"Rainy\")\n",
        "OBSERV_NAMES = (\"Park\", \"Store\", \"Home\")\n",
        "\n",
        "trans_matrix = np.array([\n",
        "    [0.7, 0.2, 0.1],\n",
        "    [0.2, 0.4, 0.4],\n",
        "    [0.15, 0.35, 0.5]\n",
        "])\n",
        "emit_matrix = np.array([\n",
        "    [0.55, 0.25, 0.2],\n",
        "    [0.4, 0.3, 0.3],\n",
        "    [0.05, 0.25, 0.7]\n",
        "])\n",
        "init_prob = np.array([0.45, 0.35, 0.2])"
      ],
      "metadata": {
        "id": "Sbulz2-RYPBy"
      },
      "execution_count": null,
      "outputs": []
    },
    {
      "cell_type": "markdown",
      "source": [
        "## Analysis"
      ],
      "metadata": {
        "id": "oRZl5Tw9FkOC"
      }
    },
    {
      "cell_type": "code",
      "source": [
        "states, observs = sample_series(trans_matrix, emit_matrix, init_prob, TIME_RANGE)\n",
        "print(\"States' Transition:\")\n",
        "for state in states:\n",
        "    if state is not None:\n",
        "        print(STATE_NAMES[state], end=\"  \")\n",
        "print()\n",
        "print()\n",
        "print(\"Observations:\")\n",
        "for observ in observs:\n",
        "    if observ is not None:\n",
        "        print(OBSERV_NAMES[observ], end=\"  \")"
      ],
      "metadata": {
        "colab": {
          "base_uri": "https://localhost:8080/"
        },
        "id": "-L4ARy2l9Fj6",
        "outputId": "c6fe022e-b3a3-422d-caf1-6aa68c5929ed"
      },
      "execution_count": null,
      "outputs": [
        {
          "output_type": "stream",
          "name": "stdout",
          "text": [
            "States' Transition:\n",
            "Sunny  Cloudy  Rainy  Rainy  Rainy  Rainy  Cloudy  Rainy  Rainy  Cloudy  Sunny  Sunny  Sunny  Cloudy  Rainy  \n",
            "\n",
            "Observations:\n",
            "Park  Store  Home  Home  Home  Home  Home  Home  Home  Home  Park  Park  Park  Park  Park  "
          ]
        }
      ]
    },
    {
      "cell_type": "code",
      "source": [
        "guess_series = decode(\n",
        "    A=trans_matrix, B=emit_matrix, PI=init_prob,\n",
        "    N=STATE_NUM, M=OBSERV_NUM, T=TIME_RANGE, observs=observs\n",
        ")\n",
        "print(guess_series)\n",
        "print()\n",
        "print(\"Guess States' Transition:\")\n",
        "for guess in guess_series:\n",
        "    if guess is not None:\n",
        "        print(STATE_NAMES[guess], end=\"  \")"
      ],
      "metadata": {
        "id": "4sqN4kkbG7wh",
        "colab": {
          "base_uri": "https://localhost:8080/"
        },
        "outputId": "cc01f85d-d23f-42fc-9382-bf65bdfa4fea"
      },
      "execution_count": null,
      "outputs": [
        {
          "output_type": "stream",
          "name": "stdout",
          "text": [
            "[1 2 2 2 2 2 2 2 2 2 0 0 0 0 0]\n",
            "\n",
            "Guess States' Transition:\n",
            "Cloudy  Rainy  Rainy  Rainy  Rainy  Rainy  Rainy  Rainy  Rainy  Rainy  Sunny  Sunny  Sunny  Sunny  Sunny  "
          ]
        }
      ]
    },
    {
      "cell_type": "markdown",
      "source": [
        "### Calculate ACC"
      ],
      "metadata": {
        "id": "90mZXYWsCy0u"
      }
    },
    {
      "cell_type": "code",
      "source": [
        "correct_count = 0\n",
        "for t in range(TIME_RANGE):\n",
        "    if guess_series[t] == states[t]:\n",
        "        correct_count += 1\n",
        "print(f\"Accuracy: {correct_count / TIME_RANGE * 100:.2f}%\")"
      ],
      "metadata": {
        "colab": {
          "base_uri": "https://localhost:8080/"
        },
        "id": "U2I7cYWmCvfv",
        "outputId": "150b356a-e7bd-4bdd-d5d3-030f8524bb34"
      },
      "execution_count": null,
      "outputs": [
        {
          "output_type": "stream",
          "name": "stdout",
          "text": [
            "Accuracy: 60.00%\n"
          ]
        }
      ]
    },
    {
      "cell_type": "markdown",
      "source": [
        "## Compare different size and matrix types"
      ],
      "metadata": {
        "id": "1BqwWK68EqU-"
      }
    },
    {
      "cell_type": "code",
      "source": [
        "time_x = np.arange(1, 10000, 50)\n",
        "acc_y = []\n",
        "for x in time_x:\n",
        "    \n",
        "    states, observs = sample_series(trans_matrix, emit_matrix, init_prob, x)\n",
        "    guess_series = decode(\n",
        "        A=trans_matrix, B=emit_matrix, PI=init_prob,\n",
        "        N=STATE_NUM, M=OBSERV_NUM, T=x, observs=observs\n",
        "    )\n",
        "    correct_count, acc = 0, 0\n",
        "    for t in range(x):\n",
        "        if guess_series[t] == states[t]:\n",
        "            correct_count += 1\n",
        "    acc = correct_count / x * 100\n",
        "    acc_y.append(acc)\n",
        "\n",
        "plt.plot(time_x, acc_y)\n",
        "plt.show()"
      ],
      "metadata": {
        "colab": {
          "base_uri": "https://localhost:8080/",
          "height": 265
        },
        "id": "-2lCcUr6EwHw",
        "outputId": "141a364c-72f8-44c7-a5ab-4039b2d94eef"
      },
      "execution_count": 48,
      "outputs": [
        {
          "output_type": "display_data",
          "data": {
            "text/plain": [
              "<Figure size 432x288 with 1 Axes>"
            ],
            "image/png": "[encoded data removed]"
          },
          "metadata": {
            "needs_background": "light"
          }
        }
      ]
    },
    {
      "cell_type": "code",
      "source": [
        "A1 = np.array([\n",
        "    [0.8, 0.1, 0.1],\n",
        "    [0.1, 0.05, 0.85],\n",
        "    [0.05, 0.9, 0.05]\n",
        "])\n",
        "B1 = np.array([\n",
        "    [0.05, 0.85, 0.1],\n",
        "    [0.15, 0.1, 0.75],\n",
        "    [0.05, 0.2, 0.75]\n",
        "])\n",
        "A2 = np.array([\n",
        "    [0.3, 0.3, 0.4],\n",
        "    [0.4, 0.4, 0.2],\n",
        "    [0.35, 0.35, 0.3]\n",
        "])\n",
        "B2 = np.array([\n",
        "    [0.33, 0.33, 0.34],\n",
        "    [0.4, 0.35, 0.25],\n",
        "    [0.3, 0.4, 0.3]\n",
        "])\n",
        "A3 = np.array([\n",
        "    [0.8, 0.1, 0.1],\n",
        "    [0.1, 0.05, 0.85],\n",
        "    [0.05, 0.9, 0.05]\n",
        "])\n",
        "B3 = np.array([\n",
        "    [0.33, 0.33, 0.34],\n",
        "    [0.4, 0.35, 0.25],\n",
        "    [0.3, 0.4, 0.3]\n",
        "])\n",
        "A4 = np.array([\n",
        "    [0.3, 0.3, 0.4],\n",
        "    [0.4, 0.4, 0.2],\n",
        "    [0.35, 0.35, 0.3]\n",
        "])\n",
        "B4 = np.array([\n",
        "    [0.05, 0.85, 0.1],\n",
        "    [0.15, 0.1, 0.75],\n",
        "    [0.05, 0.2, 0.75]\n",
        "])\n",
        "AB_sets = (\n",
        "    (A1, B1), (A2, B2), (A3, B3), (A4, B4)\n",
        ")"
      ],
      "metadata": {
        "id": "IsRCbIPaR6x_"
      },
      "execution_count": 46,
      "outputs": []
    },
    {
      "cell_type": "code",
      "source": [
        "type_x = ['abs+abs', 'random+random', 'abs+random', 'random+abs']\n",
        "acc_y = []\n",
        "for A_mat, B_mat in AB_sets:\n",
        "    states, observs = sample_series(A_mat, B_mat, init_prob, TIME_RANGE)\n",
        "    guess_series = decode(\n",
        "        A=A_mat, B=B_mat, PI=init_prob,\n",
        "        N=STATE_NUM, M=OBSERV_NUM, T=TIME_RANGE, observs=observs\n",
        "    )\n",
        "    correct_count = 0\n",
        "    for t in range(TIME_RANGE):\n",
        "        if guess_series[t] == states[t]:\n",
        "            correct_count += 1\n",
        "    acc_y.append(correct_count / TIME_RANGE * 100)\n",
        "plt.bar(type_x, acc_y)\n",
        "plt.show()"
      ],
      "metadata": {
        "colab": {
          "base_uri": "https://localhost:8080/",
          "height": 265
        },
        "id": "nhsyN0-SUVnO",
        "outputId": "2d4c5b02-f1a9-4bea-c77c-46b144b9d8fc"
      },
      "execution_count": 33,
      "outputs": [
        {
          "output_type": "display_data",
          "data": {
            "text/plain": [
              "<Figure size 432x288 with 1 Axes>"
            ],
            "image/png": "[encoded data removed]"
          },
          "metadata": {
            "needs_background": "light"
          }
        }
      ]
    },
    {
      "cell_type": "code",
      "source": [
        "time_x = np.arange(1, 10000, 50)\n",
        "acc_y = [[], [], [], []]\n",
        "index = 0\n",
        "for A_mat, B_mat in AB_sets:\n",
        "    for x in time_x:\n",
        "        \n",
        "        states, observs = sample_series(A_mat, B_mat, init_prob, x)\n",
        "        guess_series = decode(\n",
        "            A=A_mat, B=B_mat, PI=init_prob,\n",
        "            N=STATE_NUM, M=OBSERV_NUM, T=x, observs=observs\n",
        "        )\n",
        "        correct_count, acc = 0, 0\n",
        "        for t in range(x):\n",
        "            if guess_series[t] == states[t]:\n",
        "                correct_count += 1\n",
        "        acc = correct_count / x * 100\n",
        "        acc_y[index].append(acc)\n",
        "    index += 1\n",
        "fig = plt.figure()\n",
        "plt.subplot(221)\n",
        "plt.plot(time_x, acc_y[0])\n",
        "plt.subplot(222)\n",
        "plt.plot(time_x, acc_y[1])\n",
        "plt.subplot(223)\n",
        "plt.plot(time_x, acc_y[2])\n",
        "plt.subplot(224)\n",
        "plt.plot(time_x, acc_y[3])\n",
        "plt.show()"
      ],
      "metadata": {
        "colab": {
          "base_uri": "https://localhost:8080/",
          "height": 265
        },
        "id": "H2UIXicUYiuP",
        "outputId": "8e5bbadc-a5ce-4ec9-9478-d7b87440bdca"
      },
      "execution_count": 47,
      "outputs": [
        {
          "output_type": "display_data",
          "data": {
            "text/plain": [
              "<Figure size 432x288 with 4 Axes>"
            ],
            "image/png": "[encoded data removed]"
          },
          "metadata": {
            "needs_background": "light"
          }
        }
      ]
    }
  ]
}